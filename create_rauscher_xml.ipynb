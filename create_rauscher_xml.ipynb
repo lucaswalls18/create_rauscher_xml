{
 "cells": [
  {
   "cell_type": "markdown",
   "metadata": {},
   "source": [
    "# Create a Rauscher et al. (2002) webnucleo XML file.\n",
    "The goal of this notebook is to create a webnucleo XML file from Rauscher et al. (2002) output."
   ]
  },
  {
   "cell_type": "markdown",
   "metadata": {},
   "source": [
    "Begin by installing and importing the necessary python libraries"
   ]
  },
  {
   "cell_type": "code",
   "execution_count": 1,
   "metadata": {},
   "outputs": [],
   "source": [
    "import wnutils.xml as wx\n",
    "import numpy as np\n",
    "import io, requests"
   ]
  },
  {
   "cell_type": "markdown",
   "metadata": {},
   "source": [
    "Now define a list of properties for the structure data."
   ]
  },
  {
   "cell_type": "code",
   "execution_count": 2,
   "metadata": {},
   "outputs": [],
   "source": [
    "props = ['grid', 'cell outer total mass', 'cell outer radius', 'cell outer velocity', \n",
    "         'cell density', 'cell temperature', 'cell pressure', 'cell specific energy', \n",
    "         'cell specific entropy', 'cell angular velocity', 'cell A_bar', 'cell Y_e',\n",
    "         'stability', 'NETWORK', 'neutrons', 'H1', 'He3', 'He4', 'C12', 'N14', 'O16',\n",
    "         'Ne20', 'Mg24', 'Si28', 'S32', 'Ar36', 'Ca40', 'Ti44', 'Cr48', 'Fe52', 'Fe54',\n",
    "         'Ni56', 'Fe56', '\\'Fe\\'']"
   ]
  },
  {
   "cell_type": "markdown",
   "metadata": {},
   "source": [
    "Define a routine to create zone data from a *Rauscher et al. (2002)* structure file."
   ]
  },
  {
   "cell_type": "code",
   "execution_count": 3,
   "metadata": {},
   "outputs": [],
   "source": [
    "def create_zone_structure_data(structure_file):\n",
    "    x = np.genfromtxt(structure_file, skip_header=2, dtype=str)\n",
    "\n",
    "    zone_data = {}\n",
    "\n",
    "    for i in range(x.shape[0]):\n",
    "        x[i,0] = x[i,0].rstrip(':')\n",
    "        zone_data[x[i,0]] = {}\n",
    "\n",
    "    for i in range(x.shape[0]):\n",
    "        zone_props = {}\n",
    "        for j in range(x.shape[1]):\n",
    "            zone_props[props[j]] = x[i,j]\n",
    "        zone_data[x[i,0]]['properties'] = zone_props\n",
    "        zone_data[x[i,0]]['mass fractions'] = {}\n",
    "        \n",
    "    return zone_data"
   ]
  },
  {
   "cell_type": "markdown",
   "metadata": {},
   "source": [
    "Now define a routine to retrieve the composition data from the composition file.  Rename neutrons from *nt1* to *n* to be consistent with [webnucleo](https://webnucleo.readthedocs.io).  This routine also removes any zone without mass fraction data."
   ]
  },
  {
   "cell_type": "code",
   "execution_count": 4,
   "metadata": {},
   "outputs": [],
   "source": [
    "def update_mass_fractions_in_zone_data(zone_data, composition_file, nuc_data):\n",
    "    with open(composition_file) as f:\n",
    "        s = f.readline().split()\n",
    "        nucs = s[5:]\n",
    "        nucs = list(map(lambda x: x.replace('nt1', 'n'), nucs))\n",
    "\n",
    "    y = np.genfromtxt('s15a29.presn_comp', skip_header=1, dtype=str)\n",
    "\n",
    "    for i in range(y.shape[0]):\n",
    "        zone = y[i,0]\n",
    "        if zone in zone_data:\n",
    "            masses = y[i,3:]\n",
    "            mass_fractions = {}\n",
    "            for j in range(len(masses)):\n",
    "                m = float(masses[j])\n",
    "                if m > 0 and nucs[j] in nuc_data:\n",
    "                    tup = (nucs[j], nuc_data[nucs[j]]['z'], nuc_data[nucs[j]]['a'])\n",
    "                    mass_fractions[tup] = m\n",
    "            zone_data[zone]['mass fractions'] = mass_fractions\n",
    "            \n",
    "    for key, value in dict(zone_data).items():\n",
    "        if len(value['mass fractions']) == 0:\n",
    "            del zone_data[key]"
   ]
  },
  {
   "cell_type": "markdown",
   "metadata": {},
   "source": [
    "Retrieve the JINA Reaclib nuclear data from [OSF](https://osf.io/kyhbs/)."
   ]
  },
  {
   "cell_type": "code",
   "execution_count": 5,
   "metadata": {},
   "outputs": [],
   "source": [
    "xml = wx.Xml(io.BytesIO(requests.get('https://osf.io/kyhbs/download').content))\n",
    "nuc_data = xml.get_nuclide_data()\n",
    "reac_data = xml.get_reaction_data()"
   ]
  },
  {
   "cell_type": "markdown",
   "metadata": {},
   "source": [
    "Read in the *Rauscher et al. (2002)* data.  The default is to download example data from [OSF](https://osf.io/f6tp8/).  To see the download progress, remove the *-s* flag on the curl commands."
   ]
  },
  {
   "cell_type": "code",
   "execution_count": 6,
   "metadata": {},
   "outputs": [],
   "source": [
    "!curl -o s15a28.presn_structure -J -L -s https://osf.io/tbghn/download\n",
    "!curl -o s15a29.presn_comp -J -L -s https://osf.io/fv4xg/download\n",
    "!curl -o s15a28d.expl_comp -J -L -s https://osf.io/vxmc3/download"
   ]
  },
  {
   "cell_type": "markdown",
   "metadata": {},
   "source": [
    "Create the zone data from the structure file.  "
   ]
  },
  {
   "cell_type": "code",
   "execution_count": 7,
   "metadata": {},
   "outputs": [],
   "source": [
    "structure_file='s15a28.presn_structure'\n",
    "\n",
    "zone_data = create_zone_structure_data(structure_file)"
   ]
  },
  {
   "cell_type": "markdown",
   "metadata": {},
   "source": [
    "Now retrieve the composition data from the pre-supernova star.  Rename neutrons from *nt1* to *n* to be consistent with [webnucleo](https://webnucleo.readthedocs.io) standards."
   ]
  },
  {
   "cell_type": "code",
   "execution_count": 8,
   "metadata": {},
   "outputs": [],
   "source": [
    "presn_composition_file = 's15a29.presn_comp'\n",
    "\n",
    "update_mass_fractions_in_zone_data(zone_data, presn_composition_file, nuc_data)"
   ]
  },
  {
   "cell_type": "markdown",
   "metadata": {},
   "source": [
    "Save the presupernova model to XML."
   ]
  },
  {
   "cell_type": "code",
   "execution_count": 9,
   "metadata": {},
   "outputs": [],
   "source": [
    "pre_sn_output_file = 'my_pre_sn_output.xml'\n",
    "\n",
    "new_pre_xml = wx.New_Xml('libnucnet_input')\n",
    "new_pre_xml.set_nuclide_data(nuc_data)\n",
    "new_pre_xml.set_reaction_data(reac_data)\n",
    "new_pre_xml.set_zone_data(zone_data)\n",
    "\n",
    "new_pre_xml.write(pre_sn_output_file)"
   ]
  },
  {
   "cell_type": "markdown",
   "metadata": {},
   "source": [
    "Now create a post-explosion model.  Create a new zone_data with the structure file and update with mass fraction data from the explosion composition data."
   ]
  },
  {
   "cell_type": "code",
   "execution_count": 10,
   "metadata": {},
   "outputs": [],
   "source": [
    "post_sn_composition_file = 's15a28d.expl_comp'\n",
    "\n",
    "zone_data = create_zone_structure_data(structure_file)\n",
    "update_mass_fractions_in_zone_data(zone_data, post_sn_composition_file, nuc_data)"
   ]
  },
  {
   "cell_type": "markdown",
   "metadata": {},
   "source": [
    "Save the post-explosion model to XML."
   ]
  },
  {
   "cell_type": "code",
   "execution_count": 11,
   "metadata": {},
   "outputs": [],
   "source": [
    "post_sn_output_file = 'my_post_sn_output.xml'\n",
    "\n",
    "new_post_xml = wx.New_Xml('libnucnet_input')\n",
    "new_post_xml.set_nuclide_data(nuc_data)\n",
    "new_post_xml.set_reaction_data(reac_data)\n",
    "new_post_xml.set_zone_data(zone_data)\n",
    "\n",
    "new_post_xml.write(post_sn_output_file)"
   ]
  },
  {
   "cell_type": "code",
   "execution_count": null,
   "metadata": {},
   "outputs": [],
   "source": []
  }
 ],
 "metadata": {
  "interpreter": {
   "hash": "fd578b525fe7fcca8a3ea11350d18bcbeb29af20bd1df15f6c5fd2c9cf111483"
  },
  "kernelspec": {
   "display_name": "Python 3",
   "language": "python",
   "name": "python3"
  },
  "language_info": {
   "codemirror_mode": {
    "name": "ipython",
    "version": 3
   },
   "file_extension": ".py",
   "mimetype": "text/x-python",
   "name": "python",
   "nbconvert_exporter": "python",
   "pygments_lexer": "ipython3",
   "version": "3.7.12"
  }
 },
 "nbformat": 4,
 "nbformat_minor": 2
}
